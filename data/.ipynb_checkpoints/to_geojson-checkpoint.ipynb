{
 "cells": [
  {
   "cell_type": "markdown",
   "metadata": {},
   "source": [
    "# Convert the csv to geojson"
   ]
  },
  {
   "cell_type": "code",
   "execution_count": 2,
   "metadata": {},
   "outputs": [],
   "source": [
    "import pandas as pd"
   ]
  },
  {
   "cell_type": "code",
   "execution_count": 3,
   "metadata": {},
   "outputs": [],
   "source": [
    "nurs = pd.read_csv('london_nurseries_edubase_2019_with_concs.csv', )"
   ]
  },
  {
   "cell_type": "code",
   "execution_count": 17,
   "metadata": {},
   "outputs": [
    {
     "data": {
      "text/html": [
       "<div>\n",
       "<style scoped>\n",
       "    .dataframe tbody tr th:only-of-type {\n",
       "        vertical-align: middle;\n",
       "    }\n",
       "\n",
       "    .dataframe tbody tr th {\n",
       "        vertical-align: top;\n",
       "    }\n",
       "\n",
       "    .dataframe thead th {\n",
       "        text-align: right;\n",
       "    }\n",
       "</style>\n",
       "<table border=\"1\" class=\"dataframe\">\n",
       "  <thead>\n",
       "    <tr style=\"text-align: right;\">\n",
       "      <th></th>\n",
       "      <th>URN</th>\n",
       "      <th>Postcode</th>\n",
       "      <th>no2_µg/m3</th>\n",
       "      <th>pm25_µg/m3</th>\n",
       "      <th>no2_x</th>\n",
       "      <th>no2_y</th>\n",
       "      <th>Easting</th>\n",
       "      <th>Northing</th>\n",
       "    </tr>\n",
       "  </thead>\n",
       "  <tbody>\n",
       "    <tr>\n",
       "      <th>0</th>\n",
       "      <td>100005</td>\n",
       "      <td>WC1N 2NY</td>\n",
       "      <td>45.10371</td>\n",
       "      <td>15.19159</td>\n",
       "      <td>530460.0</td>\n",
       "      <td>182400.0</td>\n",
       "      <td>530464.0</td>\n",
       "      <td>182403.0</td>\n",
       "    </tr>\n",
       "    <tr>\n",
       "      <th>1</th>\n",
       "      <td>100008</td>\n",
       "      <td>WC1H 9EG</td>\n",
       "      <td>45.14359</td>\n",
       "      <td>14.98009</td>\n",
       "      <td>530240.0</td>\n",
       "      <td>182760.0</td>\n",
       "      <td>530238.0</td>\n",
       "      <td>182761.0</td>\n",
       "    </tr>\n",
       "    <tr>\n",
       "      <th>2</th>\n",
       "      <td>100009</td>\n",
       "      <td>NW6 1QL</td>\n",
       "      <td>38.33753</td>\n",
       "      <td>13.56339</td>\n",
       "      <td>524880.0</td>\n",
       "      <td>185060.0</td>\n",
       "      <td>524888.0</td>\n",
       "      <td>185067.0</td>\n",
       "    </tr>\n",
       "    <tr>\n",
       "      <th>3</th>\n",
       "      <td>100010</td>\n",
       "      <td>NW1 9AL</td>\n",
       "      <td>41.61902</td>\n",
       "      <td>14.07347</td>\n",
       "      <td>529920.0</td>\n",
       "      <td>184840.0</td>\n",
       "      <td>529912.0</td>\n",
       "      <td>184835.0</td>\n",
       "    </tr>\n",
       "    <tr>\n",
       "      <th>4</th>\n",
       "      <td>100011</td>\n",
       "      <td>N19 5DH</td>\n",
       "      <td>36.98798</td>\n",
       "      <td>13.37181</td>\n",
       "      <td>528700.0</td>\n",
       "      <td>186600.0</td>\n",
       "      <td>528706.0</td>\n",
       "      <td>186594.0</td>\n",
       "    </tr>\n",
       "  </tbody>\n",
       "</table>\n",
       "</div>"
      ],
      "text/plain": [
       "      URN  Postcode  no2_µg/m3  pm25_µg/m3     no2_x     no2_y   Easting  \\\n",
       "0  100005  WC1N 2NY   45.10371    15.19159  530460.0  182400.0  530464.0   \n",
       "1  100008  WC1H 9EG   45.14359    14.98009  530240.0  182760.0  530238.0   \n",
       "2  100009   NW6 1QL   38.33753    13.56339  524880.0  185060.0  524888.0   \n",
       "3  100010   NW1 9AL   41.61902    14.07347  529920.0  184840.0  529912.0   \n",
       "4  100011   N19 5DH   36.98798    13.37181  528700.0  186600.0  528706.0   \n",
       "\n",
       "   Northing  \n",
       "0  182403.0  \n",
       "1  182761.0  \n",
       "2  185067.0  \n",
       "3  184835.0  \n",
       "4  186594.0  "
      ]
     },
     "execution_count": 17,
     "metadata": {},
     "output_type": "execute_result"
    }
   ],
   "source": [
    "nurs[['URN', 'Postcode','no2_µg/m3',\n",
    "       'pm25_µg/m3', Easting', 'Northing']].head()"
   ]
  },
  {
   "cell_type": "code",
   "execution_count": 12,
   "metadata": {},
   "outputs": [
    {
     "data": {
      "text/plain": [
       "array(['Unnamed: 0', 'URN', 'LA (code)', 'LA (name)',\n",
       "       'EstablishmentNumber', 'EstablishmentName',\n",
       "       'TypeOfEstablishment (code)', 'TypeOfEstablishment (name)',\n",
       "       'EstablishmentTypeGroup (code)', 'EstablishmentTypeGroup (name)',\n",
       "       'EstablishmentStatus (code)', 'EstablishmentStatus (name)',\n",
       "       'ReasonEstablishmentOpened (code)',\n",
       "       'ReasonEstablishmentOpened (name)', 'OpenDate',\n",
       "       'ReasonEstablishmentClosed (code)',\n",
       "       'ReasonEstablishmentClosed (name)', 'CloseDate',\n",
       "       'PhaseOfEducation (code)', 'PhaseOfEducation (name)',\n",
       "       'StatutoryLowAge', 'StatutoryHighAge', 'Boarders (code)',\n",
       "       'Boarders (name)', 'NurseryProvision (name)',\n",
       "       'OfficialSixthForm (code)', 'OfficialSixthForm (name)',\n",
       "       'Gender (code)', 'Gender (name)', 'ReligiousCharacter (code)',\n",
       "       'ReligiousCharacter (name)', 'ReligiousEthos (name)',\n",
       "       'Diocese (code)', 'Diocese (name)', 'AdmissionsPolicy (code)',\n",
       "       'AdmissionsPolicy (name)', 'SchoolCapacity',\n",
       "       'SpecialClasses (code)', 'SpecialClasses (name)', 'CensusDate',\n",
       "       'NumberOfPupils', 'NumberOfBoys', 'NumberOfGirls', 'PercentageFSM',\n",
       "       'TrustSchoolFlag (code)', 'TrustSchoolFlag (name)',\n",
       "       'Trusts (code)', 'Trusts (name)', 'SchoolSponsorFlag (name)',\n",
       "       'SchoolSponsors (name)', 'FederationFlag (name)',\n",
       "       'Federations (code)', 'Federations (name)', 'UKPRN',\n",
       "       'FEHEIdentifier', 'FurtherEducationType (name)', 'OfstedLastInsp',\n",
       "       'OfstedSpecialMeasures (code)', 'OfstedSpecialMeasures (name)',\n",
       "       'LastChangedDate', 'Street', 'Locality', 'Address3', 'Town',\n",
       "       'County (name)', 'Postcode', 'SchoolWebsite', 'TelephoneNum',\n",
       "       'HeadTitle (name)', 'HeadFirstName', 'HeadLastName',\n",
       "       'HeadPreferredJobTitle', 'InspectorateName (name)',\n",
       "       'InspectorateReport', 'DateOfLastInspectionVisit',\n",
       "       'NextInspectionVisit', 'TeenMoth (name)', 'TeenMothPlaces',\n",
       "       'CCF (name)', 'SENPRU (name)', 'EBD (name)', 'PlacesPRU',\n",
       "       'FTProv (name)', 'EdByOther (name)', 'Section41Approved (name)',\n",
       "       'SEN1 (name)', 'SEN2 (name)', 'SEN3 (name)', 'SEN4 (name)',\n",
       "       'SEN5 (name)', 'SEN6 (name)', 'SEN7 (name)', 'SEN8 (name)',\n",
       "       'SEN9 (name)', 'SEN10 (name)', 'SEN11 (name)', 'SEN12 (name)',\n",
       "       'SEN13 (name)', 'TypeOfResourcedProvision (name)',\n",
       "       'ResourcedProvisionOnRoll', 'ResourcedProvisionCapacity',\n",
       "       'SenUnitOnRoll', 'SenUnitCapacity', 'GOR (code)', 'GOR (name)',\n",
       "       'DistrictAdministrative (code)', 'DistrictAdministrative (name)',\n",
       "       'AdministrativeWard (code)', 'AdministrativeWard (name)',\n",
       "       'ParliamentaryConstituency (code)',\n",
       "       'ParliamentaryConstituency (name)', 'UrbanRural (code)',\n",
       "       'UrbanRural (name)', 'GSSLACode (name)', 'Easting', 'Northing',\n",
       "       'CensusAreaStatisticWard (name)', 'MSOA (name)', 'LSOA (name)',\n",
       "       'Inspectorate (name)', 'SENStat', 'SENNoStat',\n",
       "       'BoardingEstablishment (name)', 'PropsName', 'PreviousLA (code)',\n",
       "       'PreviousLA (name)', 'PreviousEstablishmentNumber',\n",
       "       'OfstedRating (name)', 'RSCRegion (name)', 'Country (name)',\n",
       "       'UPRN', 'SiteName', 'MSOA (code)', 'LSOA (code)', 'no2_µg/m3',\n",
       "       'pm25_µg/m3', 'no2_x', 'no2_y', 'pm_x', 'pm_y'], dtype=object)"
      ]
     },
     "execution_count": 12,
     "metadata": {},
     "output_type": "execute_result"
    }
   ],
   "source": [
    "nurs.columns.values"
   ]
  },
  {
   "cell_type": "code",
   "execution_count": 24,
   "metadata": {},
   "outputs": [],
   "source": [
    "# loop through the csv by row skipping the first\n",
    "template = \\\n",
    "    ''' \\\n",
    "    { \"type\" : \"Feature\",\n",
    "        \"geometry\" : {\n",
    "            \"type\" : \"Point\",\n",
    "            \"coordinates\" : [%s, %s]},\n",
    "        \"properties\" : { \"id\" : %s, \"unixTime\" : \"%s\", \"msgtext\" : \"%s\", \"userID\": \"%s\"}\n",
    "        },\n",
    "    '''\n",
    "# the head of the geojson file\n",
    "output = \\\n",
    "    ''' \\\n",
    "{ \"type\" : \"Feature Collection\",\n",
    "    \"features\" : [\n",
    "    '''\n",
    "\n",
    "for i in nurs.index:\n",
    "    # iter += 1\n",
    "    # if iter >= 2:\n",
    "    id = nurs.loc[i]['URN']\n",
    "    lat = nurs.loc[i]['Northing']\n",
    "    lon = nurs.loc[i]['Easting']\n",
    "    unixTime = 'NOW'\n",
    "    msgtext = \"No2 : \" + str(nurs.loc[i]['no2_µg/m3']) + \" µg/m3 /n\" + \"PM 2.5 : \" + str(nurs.loc[i]['pm25_µg/m3']) + \" µg/m3 \"\n",
    "    userID = nurs.loc[i]['URN']\n",
    "    # output += template % (row[0], row[2], row[1], row[3], row[4])\n",
    "    output += template % (lon, lat,  id,  unixTime, msgtext, userID)"
   ]
  },
  {
   "cell_type": "code",
   "execution_count": 25,
   "metadata": {},
   "outputs": [],
   "source": [
    "# the tail of the geojson file\n",
    "output += \\\n",
    "    ''' \\\n",
    "    ]\n",
    "}\n",
    "    '''\n",
    "    \n"
   ]
  },
  {
   "cell_type": "code",
   "execution_count": 27,
   "metadata": {},
   "outputs": [],
   "source": [
    "# opens an geoJSON file to write the output to\n",
    "outFileHandle = open(\"nursery.geojson\", \"w\")\n",
    "outFileHandle.write(output)\n",
    "outFileHandle.close()"
   ]
  },
  {
   "cell_type": "code",
   "execution_count": 23,
   "metadata": {},
   "outputs": [
    {
     "data": {
      "text/plain": [
       "45.10371"
      ]
     },
     "execution_count": 23,
     "metadata": {},
     "output_type": "execute_result"
    }
   ],
   "source": [
    "nurs.loc[i]['no2_µg/m3']"
   ]
  },
  {
   "cell_type": "code",
   "execution_count": 31,
   "metadata": {},
   "outputs": [],
   "source": [
    "\n",
    "import geojson\n",
    "\n",
    "def data2geojson(df):\n",
    "    features = []\n",
    "    insert_features = lambda X: features.append(\n",
    "            geojson.Feature(geometry=geojson.Point((X[\"Easting\"],\n",
    "                                                    X[\"Northing\"],\n",
    "                                                    0)),\n",
    "                            properties=dict(URN=X[\"URN\"],\n",
    "                                            NO2_conc=X['no2_µg/m3'],\n",
    "                                            PM25_conc=X['pm25_µg/m3'],\n",
    "                                            EstablishmentName= X['EstablishmentName'],\n",
    "                                            NumberOfPupils=X['NumberOfPupils'],\n",
    "                                            Address=X[ 'Street'] +'/n' + X['Locality']+'/n' + X['Address3']+'/n' + X['Town']+'/n' + X[ 'County (name)']+'/n' + X['Postcode'],\n",
    "                                           )))\n",
    "    df.apply(insert_features, axis=1)\n",
    "    with open('nursery.geojson', 'w', encoding='utf8') as fp:\n",
    "        geojson.dump(geojson.FeatureCollection(features), fp, sort_keys=True, ensure_ascii=False)\n",
    "\n"
   ]
  },
  {
   "cell_type": "code",
   "execution_count": 32,
   "metadata": {},
   "outputs": [],
   "source": [
    "data2geojson(nurs)"
   ]
  },
  {
   "cell_type": "code",
   "execution_count": 38,
   "metadata": {},
   "outputs": [
    {
     "ename": "AttributeError",
     "evalue": "'str' object has no attribute 'read'",
     "output_type": "error",
     "traceback": [
      "\u001b[0;31m---------------------------------------------------------------------------\u001b[0m",
      "\u001b[0;31mAttributeError\u001b[0m                            Traceback (most recent call last)",
      "\u001b[0;32m<ipython-input-38-fadd1ca9b6ff>\u001b[0m in \u001b[0;36m<module>\u001b[0;34m\u001b[0m\n\u001b[1;32m      1\u001b[0m \u001b[0;32mimport\u001b[0m \u001b[0mjson\u001b[0m\u001b[0;34m\u001b[0m\u001b[0;34m\u001b[0m\u001b[0m\n\u001b[0;32m----> 2\u001b[0;31m \u001b[0mjson\u001b[0m\u001b[0;34m.\u001b[0m\u001b[0mload\u001b[0m\u001b[0;34m(\u001b[0m\u001b[0;34m'nursery.geojson'\u001b[0m\u001b[0;34m)\u001b[0m\u001b[0;34m\u001b[0m\u001b[0;34m\u001b[0m\u001b[0m\n\u001b[0m",
      "\u001b[0;32m/anaconda2/envs/py36/lib/python3.7/json/__init__.py\u001b[0m in \u001b[0;36mload\u001b[0;34m(fp, cls, object_hook, parse_float, parse_int, parse_constant, object_pairs_hook, **kw)\u001b[0m\n\u001b[1;32m    291\u001b[0m     \u001b[0mkwarg\u001b[0m\u001b[0;34m;\u001b[0m \u001b[0motherwise\u001b[0m\u001b[0;31m \u001b[0m\u001b[0;31m`\u001b[0m\u001b[0;31m`\u001b[0m\u001b[0mJSONDecoder\u001b[0m\u001b[0;31m`\u001b[0m\u001b[0;31m`\u001b[0m \u001b[0;32mis\u001b[0m \u001b[0mused\u001b[0m\u001b[0;34m.\u001b[0m\u001b[0;34m\u001b[0m\u001b[0;34m\u001b[0m\u001b[0m\n\u001b[1;32m    292\u001b[0m     \"\"\"\n\u001b[0;32m--> 293\u001b[0;31m     return loads(fp.read(),\n\u001b[0m\u001b[1;32m    294\u001b[0m         \u001b[0mcls\u001b[0m\u001b[0;34m=\u001b[0m\u001b[0mcls\u001b[0m\u001b[0;34m,\u001b[0m \u001b[0mobject_hook\u001b[0m\u001b[0;34m=\u001b[0m\u001b[0mobject_hook\u001b[0m\u001b[0;34m,\u001b[0m\u001b[0;34m\u001b[0m\u001b[0;34m\u001b[0m\u001b[0m\n\u001b[1;32m    295\u001b[0m         \u001b[0mparse_float\u001b[0m\u001b[0;34m=\u001b[0m\u001b[0mparse_float\u001b[0m\u001b[0;34m,\u001b[0m \u001b[0mparse_int\u001b[0m\u001b[0;34m=\u001b[0m\u001b[0mparse_int\u001b[0m\u001b[0;34m,\u001b[0m\u001b[0;34m\u001b[0m\u001b[0;34m\u001b[0m\u001b[0m\n",
      "\u001b[0;31mAttributeError\u001b[0m: 'str' object has no attribute 'read'"
     ]
    }
   ],
   "source": [
    "import json\n",
    "json.load('nursery.geojson')"
   ]
  },
  {
   "cell_type": "code",
   "execution_count": null,
   "metadata": {},
   "outputs": [],
   "source": []
  }
 ],
 "metadata": {
  "kernelspec": {
   "display_name": "Python 3",
   "language": "python",
   "name": "python3"
  },
  "language_info": {
   "codemirror_mode": {
    "name": "ipython",
    "version": 3
   },
   "file_extension": ".py",
   "mimetype": "text/x-python",
   "name": "python",
   "nbconvert_exporter": "python",
   "pygments_lexer": "ipython3",
   "version": "3.7.1"
  }
 },
 "nbformat": 4,
 "nbformat_minor": 2
}
